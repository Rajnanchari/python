{
 "cells": [
  {
   "cell_type": "code",
   "execution_count": 1,
   "id": "bc89e631-c580-4a33-8e5f-99a9a6925a18",
   "metadata": {},
   "outputs": [
    {
     "name": "stdin",
     "output_type": "stream",
     "text": [
      "Enter the total no of people:  5\n",
      "Enter the no of seats per bus:  52\n"
     ]
    },
    {
     "name": "stdout",
     "output_type": "stream",
     "text": [
      "0.09615384615384616\n"
     ]
    }
   ],
   "source": [
    "# 1.Assignments on variables expressions and statements1.Take the input \n",
    "#from the user for(Total number of people,Number of seats for bus. Based on two inputs Decide how many number of buses required\n",
    "\n",
    "total_people = int(input(\"Enter the total no of people: \"))\n",
    "seats_per_bus = int(input(\"Enter the no of seats per bus: \"))\n",
    "total=total_people/seats_per_bus \n",
    "print(total)"
   ]
  },
  {
   "cell_type": "code",
   "execution_count": 2,
   "id": "a77336bf-d6ad-45d1-af76-ba19dd7b904c",
   "metadata": {},
   "outputs": [
    {
     "name": "stdin",
     "output_type": "stream",
     "text": [
      "Enter temperature in Fahrenheit:  250\n"
     ]
    },
    {
     "name": "stdout",
     "output_type": "stream",
     "text": [
      "Temperature in Celsius: 121.11\n"
     ]
    }
   ],
   "source": [
    "# 2.take temperature from the user and convert foreign heat -> Celsius\n",
    "fahrenheit = float(input(\"Enter temperature in Fahrenheit: \"))\n",
    "celsius = (fahrenheit - 32) * 5 / 9\n",
    "print(f\"Temperature in Celsius: {celsius:.2f}\")"
   ]
  },
  {
   "cell_type": "code",
   "execution_count": 3,
   "id": "961808a4-255f-4ca7-8b40-234112eaf119",
   "metadata": {},
   "outputs": [
    {
     "name": "stdin",
     "output_type": "stream",
     "text": [
      "Enter temperature in Fahrenheit:  250\n"
     ]
    },
    {
     "name": "stdout",
     "output_type": "stream",
     "text": [
      "Temperature in Celsius: 121.11\n"
     ]
    }
   ],
   "source": [
    "#3.take temperature from the user and convert Celsius → foreign heat\n",
    "fahrenheit = float(input(\"Enter temperature in Fahrenheit: \"))\n",
    "celsius = (fahrenheit - 32) * 5 / 9\n",
    "print(f\"Temperature in Celsius: {celsius:.2f}\")"
   ]
  },
  {
   "cell_type": "markdown",
   "id": "d2ca9365-ddbc-47e2-b9d2-46a1bf714dd8",
   "metadata": {},
   "source": [
    " ### 4.take four number from the user (variables name it as x1,x2,x3,x4)\n",
    " Do the below operations\n",
    " (x1+x2)**2, (x3+x4)**3\n",
    "variance\n",
    "standard deviation: sqrt(variance):  User math module. Math.sqrt(variance)\n",
    "Regression\n",
    "\ty=mx+b\n",
    "          m=1.23\n",
    "          b=0.045\n",
    "          find out y\n",
    "          y=m*(x1+x2+x3+x4)+b\n",
    " Find the average of four numbers\n",
    "Find the sum of four numbers\n",
    "\n"
   ]
  },
  {
   "cell_type": "code",
   "execution_count": 5,
   "id": "94a38942-4df4-4f6b-bb4f-76653d740038",
   "metadata": {},
   "outputs": [
    {
     "name": "stdin",
     "output_type": "stream",
     "text": [
      "x1 : 1\n",
      "x2 : 2\n",
      "x3 : 5\n",
      "x4 : 6\n"
     ]
    },
    {
     "name": "stdout",
     "output_type": "stream",
     "text": [
      "variance =  2.0833333333333335\n",
      "std_deviation =  1.4433756729740645\n",
      "y = 17.265\n"
     ]
    }
   ],
   "source": [
    "x1 = int(input(\"x1 :\", ))\n",
    "x2 = int(input(\"x2 :\", ))\n",
    "x3 = int(input(\"x3 :\", ))\n",
    "x4 = int(input(\"x4 :\", ))\n",
    "\n",
    "def variance_of(numbers):\n",
    "    variance = 0\n",
    "    for i in numbers:\n",
    "        variance =+ (i -(sum(numbers)/len(numbers))) ** 2 \n",
    "    variance = variance / ((len(numbers)) -1)\n",
    "    return variance\n",
    "numbers = [x1, x2, x3, x4 ]\n",
    "variance = variance_of(numbers)\n",
    "print(\"variance = \", variance)\n",
    "std_deviation = variance ** 0.5\n",
    "print(\"std_deviation = \", std_deviation)\n",
    "m = 1.23\n",
    "b = 0.045\n",
    "y = m * (sum(numbers)) + b\n",
    "print(\"y =\" , y)"
   ]
  },
  {
   "cell_type": "code",
   "execution_count": 6,
   "id": "01c8fc0a-13eb-4eba-90e4-db52bed56fa4",
   "metadata": {},
   "outputs": [
    {
     "name": "stdin",
     "output_type": "stream",
     "text": [
      "Enter temperature in Celsius:  9\n"
     ]
    },
    {
     "name": "stdout",
     "output_type": "stream",
     "text": [
      "Temperature in Fahrenheit: 48.20\n"
     ]
    }
   ],
   "source": [
    "#5.Take the distance in km ,Show that in cm, meters, in milli meters, cents, feets, yards\n",
    "celsius = float(input(\"Enter temperature in Celsius: \"))\n",
    "fahrenheit = (celsius * 9 / 5) + 32\n",
    "print(f\"Temperature in Fahrenheit: {fahrenheit:.2f}\")"
   ]
  },
  {
   "cell_type": "code",
   "execution_count": 7,
   "id": "65ac8775-bf89-4094-9168-a08fbdef674e",
   "metadata": {},
   "outputs": [
    {
     "name": "stdin",
     "output_type": "stream",
     "text": [
      "Enter distance in kilometers:  25\n"
     ]
    },
    {
     "name": "stdout",
     "output_type": "stream",
     "text": [
      "METERS: 25000.00 m\n",
      "CM: 2500000.00 cm\n",
      "MILLI_METERS: 25000000.00 mm\n",
      "FEETS: 82021.00 ft\n",
      "YARDS: 27340.25 yd\n"
     ]
    }
   ],
   "source": [
    "### 6.Take the size of your hard disk in GB,Show that in MB, KB, TB, PB\n",
    "km = float(input(\"Enter distance in kilometers: \"))\n",
    "METERS = km * 1000\n",
    "CM = METERS * 100\n",
    "MILLI_METERS = METERS * 1000\n",
    "FEETS = METERS * 3.28084\n",
    "YARDS = METERS * 1.09361\n",
    "#Show that in cm, meters, in milli meters, cents, feets, yards\n",
    "print(f\"METERS: {METERS:.2f} m\")\n",
    "print(f\"CM: {CM:.2f} cm\")\n",
    "print(f\"MILLI_METERS: {MILLI_METERS:.2f} mm\")\n",
    "print(f\"FEETS: {FEETS:.2f} ft\")\n",
    "print(f\"YARDS: {YARDS:.2f} yd\")"
   ]
  },
  {
   "cell_type": "code",
   "execution_count": 8,
   "id": "6efd7f2f-e77e-4583-8e27-aec7e210b395",
   "metadata": {},
   "outputs": [
    {
     "name": "stdin",
     "output_type": "stream",
     "text": [
      "Enter your name:  Kumar\n",
      "Enter your age:  25\n",
      "Enter your height:  5.5\n"
     ]
    },
    {
     "name": "stdout",
     "output_type": "stream",
     "text": [
      "The Person deatils Name:Kumar, Age:25, Height:5.5\n"
     ]
    }
   ],
   "source": [
    "#7.  Take name, age, height from the user and print like below\n",
    "#The details of the person: Name:name of the person, Age:age of the person, Height:height of the person Note: make sure that no space between : and a value and should be space after “COMA”\n",
    "\n",
    "name = input(\"Enter your name: \")\n",
    "age = input(\"Enter your age: \")\n",
    "height = input(\"Enter your height: \")\n",
    "\n",
    "print(f\"The Person deatils Name:{name}, Age:{age}, Height:{height}\")\n"
   ]
  },
  {
   "cell_type": "code",
   "execution_count": 9,
   "id": "44fae736-4f25-4a95-afd8-db3e7864b9e5",
   "metadata": {},
   "outputs": [
    {
     "name": "stdin",
     "output_type": "stream",
     "text": [
      "Enter your weight kg:  65\n",
      "Enter your height in m:  5.5\n"
     ]
    },
    {
     "name": "stdout",
     "output_type": "stream",
     "text": [
      "your bmi is: 2.15\n"
     ]
    }
   ],
   "source": [
    "# 8.BMI calculation: take required parameters for BMI calculation from the user and calculate BMI of the person.\n",
    "#body mass index bmi\n",
    "weight = float(input(\"Enter your weight kg: \"))\n",
    "height = float(input(\"Enter your height in m: \"))\n",
    "bmi = weight / (height ** 2)\n",
    "\n",
    "print(f\"your bmi is: {bmi:.2f}\")"
   ]
  },
  {
   "cell_type": "markdown",
   "id": "81ff012e-193e-49e0-973a-43f9f593590f",
   "metadata": {},
   "source": [
    "#### 9.name=\"Jayaram\"age=1.6 height=3.5356234 weight=10.343856783 By using above inputs print the output Name:Jayaram, Age:1.6, Height:3.54, Weight:10.344 Note: Use format specifiers(%s, %d, %f)\n"
   ]
  },
  {
   "cell_type": "code",
   "execution_count": 11,
   "id": "fe1c5fce-aaf7-416c-96c3-3bafb34ba2ff",
   "metadata": {},
   "outputs": [
    {
     "name": "stdout",
     "output_type": "stream",
     "text": [
      "Name:Jayaram, Age:1.6, Height:3.54, Weight:10.344\n"
     ]
    }
   ],
   "source": [
    "name=\"Jayaram\"\n",
    "age= 1.6\n",
    "height=3.5356234\n",
    "weight=10.343856783\n",
    "print(\"Name:%s, Age:%.1f, Height:%.2f, Weight:%.3f\" % (name,age,height,weight))"
   ]
  },
  {
   "cell_type": "markdown",
   "id": "f26a460c-c1db-4fd2-963b-cf4e9fe3192b",
   "metadata": {},
   "source": [
    "### 10.Take three upper case letters from the user convert in to small case.\n"
   ]
  },
  {
   "cell_type": "code",
   "execution_count": 113,
   "id": "c4a427fa-a5a0-4c7c-949b-a80e677d2cc0",
   "metadata": {},
   "outputs": [
    {
     "name": "stdin",
     "output_type": "stream",
     "text": [
      "enter upper case letter :  A\n",
      "enter upper case letter :  J\n",
      "enter upper case letter :  A\n"
     ]
    },
    {
     "name": "stdout",
     "output_type": "stream",
     "text": [
      "a\n",
      "j\n",
      "a\n"
     ]
    }
   ],
   "source": [
    "first = input(\"enter upper case letter : \")\n",
    "second = input(\"enter upper case letter : \")\n",
    "Third = input(\"enter upper case letter : \")\n",
    "convert1 = ord(first) + 32\n",
    "convert2 = ord(second) + 32\n",
    "convert3 = ord(Third) + 32\n",
    "print(chr(convert1))\n",
    "print(chr(convert2))\n",
    "print(chr(convert3))"
   ]
  },
  {
   "cell_type": "code",
   "execution_count": 93,
   "id": "5caf2f72-2f16-486d-a574-5c43d4b9e1b3",
   "metadata": {},
   "outputs": [
    {
     "name": "stdout",
     "output_type": "stream",
     "text": [
      "2³\n"
     ]
    }
   ],
   "source": [
    "### 11.take base and exponent value from the user and print like in mathematics:\n",
    "  #example: base=2, exponent=3: 23\n",
    "#Use: 2\\u00b3\n",
    "base=2 \n",
    "exponent=3\n",
    "print(f\"{base}\\u00b3\")\n"
   ]
  },
  {
   "cell_type": "code",
   "execution_count": null,
   "id": "e2de3e51-ae38-4d93-85fe-5a14eeef7004",
   "metadata": {},
   "outputs": [],
   "source": [
    "#12.Take some groceries cost prices and print total cost and average cost, what is the max cost, what is the minimum cost."
   ]
  },
  {
   "cell_type": "code",
   "execution_count": 97,
   "id": "de0f9ba1-c800-424f-b329-54ff911f417d",
   "metadata": {},
   "outputs": [
    {
     "name": "stdout",
     "output_type": "stream",
     "text": [
      "32.5\n",
      "50\n",
      "10\n"
     ]
    }
   ],
   "source": [
    "a=10\n",
    "b=30\n",
    "c=40\n",
    "d=50\n",
    "total_cost=(a+b+c+d)\n",
    "list_a = [a, b, c, d]\n",
    "#print(cost)\n",
    "print(total_cost/4)\n",
    "print(max(list_a))\n",
    "print(min(list_a))"
   ]
  },
  {
   "cell_type": "markdown",
   "id": "e6f7487d-174a-49d4-8c9e-c8154bd34c52",
   "metadata": {},
   "source": [
    "### 13.Take the input from the user for(Total number of people, total number of buses, Number of seats for bus, adjust factor). Based on four inputsDecide whether there is sufficient buses or not and give solution for how many extra buses required."
   ]
  },
  {
   "cell_type": "code",
   "execution_count": 101,
   "id": "47c277f8-1f28-44da-9743-07546ae6db84",
   "metadata": {},
   "outputs": [
    {
     "name": "stdin",
     "output_type": "stream",
     "text": [
      "Enter the total number of people:  250\n",
      "Enter the total number of buses:  50\n",
      "Enter the number of seats per bus:  25\n",
      "Enter the adjustment factor:  3\n"
     ]
    },
    {
     "name": "stdout",
     "output_type": "stream",
     "text": [
      "There are enough buses for all people.\n"
     ]
    }
   ],
   "source": [
    "total_people = int(input(\"Enter the total number of people: \"))\n",
    "total_buses = int(input(\"Enter the total number of buses: \"))\n",
    "seats_per_bus = int(input(\"Enter the number of seats per bus: \"))\n",
    "adjust_factor = int(input(\"Enter the adjustment factor: \"))\n",
    "\n",
    "total_capacity = total_buses * seats_per_bus * adjust_factor\n",
    "if total_people <= total_capacity:\n",
    "    print(\"There are enough buses for all people.\")\n",
    "else:\n",
    "    extra_people = total_people - total_capacity\n",
    "    extra_buses = (extra_people + seats_per_bus - 1) // seats_per_bus\n",
    "    print(f\"There are not enough buses. You need {extra_buses} more bus(es).\")\n"
   ]
  },
  {
   "cell_type": "markdown",
   "id": "2f353d0c-7f6b-43b5-81c4-7c048db7a94e",
   "metadata": {},
   "source": [
    " ### 14.Take number from the user decide whether it is even or odd."
   ]
  },
  {
   "cell_type": "code",
   "execution_count": 103,
   "id": "34c8a03e-74ca-4c08-8ffe-7a9cc2328d57",
   "metadata": {},
   "outputs": [
    {
     "name": "stdin",
     "output_type": "stream",
     "text": [
      "Enter a number:  25\n"
     ]
    },
    {
     "name": "stdout",
     "output_type": "stream",
     "text": [
      "25 is an odd number.\n"
     ]
    }
   ],
   "source": [
    "number = int(input(\"Enter a number: \"))\n",
    "if number % 2 == 0:\n",
    "    print(f\"{number} is an even number.\")\n",
    "else:\n",
    "    print(f\"{number} is an odd number.\")"
   ]
  },
  {
   "cell_type": "markdown",
   "id": "e1dcc440-59be-4a6d-9a6c-63a79707f967",
   "metadata": {},
   "source": [
    "#### 15.take number from the user decide whether it is positive number or negative number"
   ]
  },
  {
   "cell_type": "code",
   "execution_count": 105,
   "id": "a3c6d0be-cb0e-4ac8-aa45-8544d8b7c99e",
   "metadata": {},
   "outputs": [
    {
     "name": "stdin",
     "output_type": "stream",
     "text": [
      "Enter a number:  35\n"
     ]
    },
    {
     "name": "stdout",
     "output_type": "stream",
     "text": [
      "35.0 is a positive number.\n"
     ]
    }
   ],
   "source": [
    "number = float(input(\"Enter a number: \"))\n",
    "if number > 0:\n",
    "    print(f\"{number} is a positive number.\")\n",
    "elif number < 0:\n",
    "    print(f\"{number} is a negative number.\")\n",
    "else:\n",
    "    print(\"The number is zero.\")\n"
   ]
  },
  {
   "cell_type": "markdown",
   "id": "b7c6f076-3879-459a-90b1-09a7b65b4100",
   "metadata": {},
   "source": [
    "#### 16.take a string from the user print the length. if the user not given anything then show an error message"
   ]
  },
  {
   "cell_type": "code",
   "execution_count": 107,
   "id": "e702bea5-6946-4d25-b141-df6b23d597a9",
   "metadata": {},
   "outputs": [
    {
     "name": "stdin",
     "output_type": "stream",
     "text": [
      "Enter Any Value \n"
     ]
    },
    {
     "name": "stdout",
     "output_type": "stream",
     "text": [
      "Error: you dont enter anything\n"
     ]
    }
   ],
   "source": [
    "st = input(\"Enter Any Value\")\n",
    "if st==\"\":\n",
    "    print(\"Error: you dont enter anything\")\n",
    "else:\n",
    "    print(f\"the give length of {len(st)}\")    "
   ]
  },
  {
   "cell_type": "markdown",
   "id": "ac7d178e-d4ce-45af-a45b-38a1d12bf2a2",
   "metadata": {},
   "source": [
    "### 17.code to perform mathematical operations. take two numbers from the user and show the below menu1. add,2. sub,3. mul,4.div, 5.quit Enter an option: based on the option need to perform an operations"
   ]
  },
  {
   "cell_type": "code",
   "execution_count": 111,
   "id": "4756d962-424a-4e9f-92e7-5a2cdf8619f1",
   "metadata": {},
   "outputs": [
    {
     "name": "stdin",
     "output_type": "stream",
     "text": [
      "Enter First Number:  1\n",
      "Enter Second Number:  5\n"
     ]
    },
    {
     "name": "stdout",
     "output_type": "stream",
     "text": [
      "1.add\n",
      "2.sub\n",
      "3.mul\n",
      "4.div\n",
      "5.quit\n"
     ]
    },
    {
     "name": "stdin",
     "output_type": "stream",
     "text": [
      "Select option 1\n"
     ]
    },
    {
     "name": "stdout",
     "output_type": "stream",
     "text": [
      "6\n"
     ]
    }
   ],
   "source": [
    "num1 = int(input(\"Enter First Number: \"))\n",
    "num2 = int(input(\"Enter Second Number: \"))\n",
    "print(\"1.add\\n2.sub\\n3.mul\\n4.div\\n5.quit\")\n",
    "option= input(\"Select option\")\n",
    "if option==\"1\":\n",
    "    print(num1+num2)\n",
    "elif option==\"2\":\n",
    "    print(num1-num2)\n",
    "elif option==\"3\":\n",
    "    print(num1*num2)\n",
    "elif option==\"4\":\n",
    "    print(num1/num2)\n",
    "elif option==\"5\":\n",
    "    print(\"Enter an valid Option\")  \n",
    "else:\n",
    "    print (\"Thank you\")"
   ]
  },
  {
   "cell_type": "markdown",
   "id": "ea097714-e014-4e32-a29f-236816c02225",
   "metadata": {},
   "source": [
    "### 18. show the menu 1. kids 2. Men's 3. Women's Show the corresponding message based on the selection.Show the corresponding message based on the selection.Option:1: you are a kid 2: you are a gentlemen   3: you are a good women Mention error message if the option value >3."
   ]
  },
  {
   "cell_type": "code",
   "execution_count": null,
   "id": "e35365fd-6529-43af-9363-83c9bc1e2747",
   "metadata": {},
   "outputs": [],
   "source": [
    "option = input(\"Select option\")\n",
    "print(\"1.kids\\n2.Men's\\n3.Women's\")\n",
    "if option==\"1\":\n",
    "    print(\"you are a kid\")\n",
    "elif option==\"2\":\n",
    "    print(\"you are a gentlemen\")\n",
    "elif option==\"3\":\n",
    "    print(\"you are a good women\") \n",
    "else:\n",
    "    print (\"Error:  please Select option 1 to 3\")"
   ]
  },
  {
   "cell_type": "markdown",
   "id": "16e2eb6e-736b-4248-a302-665efdb6e238",
   "metadata": {},
   "source": [
    "### 19. write a program to chcek given substring is there in actual string or not? example: act=\"python is a pure object oriented programing language\"check whether “pure” is there in act or not. Note: Use in operator\n"
   ]
  },
  {
   "cell_type": "code",
   "execution_count": null,
   "id": "70f2942a-c64b-4469-9980-96c8bdec9470",
   "metadata": {},
   "outputs": [],
   "source": [
    "act = \"python is a pure object oriented programming language\"\n",
    "substring = \"pure\"\n",
    "if substring in act:\n",
    "    print(f'\"{substring}\" is present in the string.')\n",
    "else:\n",
    "    print(f'\"{substring}\" is not present in the string.')\n"
   ]
  },
  {
   "cell_type": "markdown",
   "id": "99741d03-8e0b-4bdb-a96b-ad0a4c9e3313",
   "metadata": {},
   "source": [
    "### 20. Take three numbers from the user and decide which is big"
   ]
  },
  {
   "cell_type": "code",
   "execution_count": null,
   "id": "ca1b4373-e422-476c-a4a7-11c5749b1490",
   "metadata": {},
   "outputs": [],
   "source": [
    "num1 = float(input(\"Enter first number: \"))\n",
    "num2 = float(input(\"Enter second number: \"))\n",
    "num3 = float(input(\"Enter third number: \"))\n",
    "if (num1 >= num2) and (num1 >= num3):\n",
    "   largest = num1\n",
    "elif (num2 >= num1) and (num2 >= num3):\n",
    "   largest = num2\n",
    "else:\n",
    "   largest = num3\n",
    "\n",
    "print(\"The largest number is\", largest)"
   ]
  },
  {
   "cell_type": "markdown",
   "id": "65fe3201-1366-44c3-b4b3-f1432eaa8519",
   "metadata": {},
   "source": [
    "### 21.Take age and gender from the user and decide whether he is eligible for \tmarriage in India or not.Age criteria: men age>24, women>21\n"
   ]
  },
  {
   "cell_type": "code",
   "execution_count": null,
   "id": "66c14301-f2ed-48c4-856b-13b2d45d7064",
   "metadata": {},
   "outputs": [],
   "source": [
    "age = int(input(\"Enter Your Age\"))\n",
    "gender = input(\"Enter Your Gender\")\n",
    "if(gender == \"male\" and (age>= 21) or gender ==\"female\" and (age>=18)):\n",
    "    print(f\"{gender} eligible for marriage in India\")\n",
    "else:\n",
    "    print(f\"{gender} not eligible for marriage in India\")"
   ]
  },
  {
   "cell_type": "code",
   "execution_count": null,
   "id": "a971e98c-3de4-42c1-9ab6-3420350cc34d",
   "metadata": {},
   "outputs": [],
   "source": [
    "# 22. Take an age  and gender from the user: and mention that what he/she can \tdo in india.\"\"\"conditions \n",
    "#1. Theatre: 5 for men 7 for women\n",
    "#2. Voting system: 18 for men and women\n",
    "#3. Marriage in india: 23 for men and for women >21\n",
    " #   \t4. For govt jobs: (min:18, max:32)  for men and (min:18, max:34) for \twomen\n",
    "  # \t \t5. For driving licence: (min:18, max:60) for men and women\n",
    "\t# Eligibility:\n",
    "   \t#\t1. theatre\n",
    "\t#\t\t2.  Voting system\n",
    "\t#\t\t3.  Marriage in india\n",
    "\t#\t\t4.  For govt obs\n",
    "\t#\t\t5. For driving licence:\n",
    " # Enter an option:\n",
    "\t#\tGender:\n",
    "\t#\t\t1. men\n",
    "\t#\t\t2. women\n",
    "\t# Enter an option:\n",
    "\t#\tEnter an age of person:\n",
    "   \t\n"
   ]
  },
  {
   "cell_type": "code",
   "execution_count": null,
   "id": "7063a1bd-0335-493f-b00a-11c1f9898c83",
   "metadata": {},
   "outputs": [],
   "source": [
    "\n",
    "print(\"1.Men\\n2.Women\")\n",
    "gender=int(input(\"Enter Gender\"))\n",
    "age = input(\"Enter age\")\n",
    "age=float(age)\n",
    "if age>=18:\n",
    "        print(\"can apply for vote.\")\n",
    "if age>=18 and age<=60:\n",
    "        print(\"can apply for driving license\")\n",
    "if gender ==\"1\":\n",
    "    if(age >=5):\n",
    "        print(\"Theater Eligibly\")\n",
    "    if(age>=23):\n",
    "        print(\"marriage\")\n",
    "    if(age>=18 and age<=32):\n",
    "        print(\"govt job\") \n",
    "else:\n",
    "    if age>=7:\n",
    "        print(\"can got to movie.\")\n",
    "    if age>=18:\n",
    "        print(\"can apply for vote.\")\n",
    "    if age>=21:\n",
    "        print(\"can get marriged.\")\n",
    "    if age>=18 and age<=34:\n",
    "        print(\"can apply for govt jobs.\")\n",
    "    \n",
    "  \n",
    "                    "
   ]
  },
  {
   "cell_type": "markdown",
   "id": "b02e6ec2-98ad-49c4-91ba-bfcdc30d21d2",
   "metadata": {},
   "source": [
    "#### 23. operating systems:\n",
    "\t1.windows\n",
    "\t2.android\n",
    "\t3.mac\n",
    "Enter an option:\n",
    "If the user enters 1 then show \"Goto first floor and buy windows laptop or mobile\"\n",
    "If the user enters 2 then show \"Goto second floor and buy adroid mobiles\"\n",
    "If the user enters 3 then show \"Goto third floor and buy mac laptop or iphones\"\n",
    "If the user enters other than 1 or 2 or 3 then show \"There is only three floors, please select 1 or 2 or 3\"\n"
   ]
  },
  {
   "cell_type": "code",
   "execution_count": null,
   "id": "7dab61d9-28f2-45d2-a8d3-847caf33f545",
   "metadata": {},
   "outputs": [],
   "source": [
    "print(\"opt 1.windows\")\n",
    "print(\"opt 2.android\")\n",
    "print(\"opt 3.mac\")\n",
    "opt = int(input( \"enter an option : \"))\n",
    "if opt == 1:\n",
    "    print(\" Go to first floor and buy windows laptop or mobile\")\n",
    "elif opt == 2:\n",
    "    print(\"Go to second floor and buy adroid mobiles\")\n",
    "elif opt == 3:\n",
    "    print(\"Go to third floor and buy mac laptop or iphones\")\n",
    "else:\n",
    "    print(\"There is only three floors, please select 1 or 2 or 3\")"
   ]
  },
  {
   "cell_type": "code",
   "execution_count": null,
   "id": "7fe8f4e1-298c-4b55-8825-bbf0bb1d0fc4",
   "metadata": {},
   "outputs": [],
   "source": [
    "# 24.Given an age, figure out whether someone's a baby, toddler, child, teenager, adult or old codger.\n"
   ]
  },
  {
   "cell_type": "code",
   "execution_count": null,
   "id": "0ceb2178-1451-4ea9-b0ab-3d1b3c838bdb",
   "metadata": {},
   "outputs": [],
   "source": [
    "age = int(input(\"enter age : \" ))\n",
    "if age <= 2:\n",
    "    print(\"your a baby \")\n",
    "elif age < 7 : \n",
    "    print(\"your a toddler \")\n",
    "elif age < 13 :\n",
    "    print(\"your a child \")\n",
    "elif age < 19:\n",
    "    print(\"your a teenager\")\n",
    "elif age < 60:\n",
    "    print(\" your a adult \")\n",
    "else:\n",
    "    print(\"your old codger\")"
   ]
  },
  {
   "cell_type": "code",
   "execution_count": null,
   "id": "a18fc9d1-80f7-465d-80c4-97aca07a4d55",
   "metadata": {},
   "outputs": [],
   "source": [
    "# 25.Take two number a,b from the user and check whether a is divisible by b or not"
   ]
  },
  {
   "cell_type": "code",
   "execution_count": null,
   "id": "8a652ff3-7413-4e0e-89a6-45b26ee0a882",
   "metadata": {},
   "outputs": [],
   "source": [
    "a = int(input(\"enter number 1: \"))\n",
    "b = int(input(\"enter number 2: \"))\n",
    "if a % b == 0:\n",
    "    print(\"a is divisible by b \")\n",
    "else:\n",
    "    print(\"a is not divisible by b \")"
   ]
  },
  {
   "cell_type": "code",
   "execution_count": null,
   "id": "45e116d1-72be-435d-b038-b022385820eb",
   "metadata": {},
   "outputs": [],
   "source": [
    "# looping statements\n",
    "# 26. take a number from the user and check whether it is prime?"
   ]
  },
  {
   "cell_type": "code",
   "execution_count": null,
   "id": "53113486-397b-4a7c-8279-8439849f961c",
   "metadata": {},
   "outputs": [],
   "source": [
    "\n",
    "num = int(input(\"Enter a number: \"))\n",
    "if num > 1:\n",
    "    for i in range(2, num):\n",
    "        if(num % i )== 0:\n",
    "            print(f\"{num} is not a prime number\")\n",
    "            break\n",
    "    else:\n",
    "            print(f\"{num} is a prime number\")       \n",
    "else:\n",
    "     print(f\"{num} is not a prime number\")"
   ]
  },
  {
   "cell_type": "markdown",
   "id": "38fd1682-ab52-40e4-9ac0-b65cc9132fc4",
   "metadata": {},
   "source": [
    "### 27. take a string from the user and check contains only digits or not?\n"
   ]
  },
  {
   "cell_type": "code",
   "execution_count": null,
   "id": "3e146c26-881d-4d01-886a-657ef7e9abc3",
   "metadata": {},
   "outputs": [],
   "source": [
    "digit =input(\"Enter A String: \")\n",
    "for i in digit:\n",
    "    if not ('0' <=i <='9'):\n",
    "        print(\"The String Contain Not Digit Char\")\n",
    "        break\n",
    "else:\n",
    "    print(\"The String Contain  Digit Char\")"
   ]
  },
  {
   "cell_type": "markdown",
   "id": "06bf8b9a-1617-4887-b61d-141e8e5ad975",
   "metadata": {},
   "source": [
    "### 28. take a string from the user and check contains only  alphabets or not?\n"
   ]
  },
  {
   "cell_type": "code",
   "execution_count": null,
   "id": "dba3f93d-780f-46a2-a8ce-7de76225f868",
   "metadata": {},
   "outputs": [],
   "source": [
    "alpha =input(\"Enter A String: \")\n",
    "for i in alpha:\n",
    "    if not ('a' <=i <='z' or 'A' <=i <='Z' ):\n",
    "        print(\"The String Contain Not Alpha \")\n",
    "        break\n",
    "else:\n",
    "    print(\"The String Contain  Alpha\")"
   ]
  },
  {
   "cell_type": "markdown",
   "id": "0f4868ad-b44a-4b72-b700-7376d46da1d7",
   "metadata": {},
   "source": [
    "### 29. take a string from the user and check contains only  special chars or not?\n"
   ]
  },
  {
   "cell_type": "code",
   "execution_count": null,
   "id": "1947d655-b4ff-48fe-bda2-1725975cf734",
   "metadata": {},
   "outputs": [],
   "source": [
    "user_input = input(\"Enter a string: \")\n",
    "if all((32 <= ord(char) <= 47) or (58 <= ord(char) <= 64) or (91 <= ord(char) <= 96) or (123 <= ord(char) <= 126) for char in user_input):\n",
    "    print(f\" The string contains only special characters: {user_input}\")\n",
    "else:\n",
    "    print(\"The string contains other characters (letters, digits, or spaces).\")\n",
    "\n",
    "    "
   ]
  },
  {
   "cell_type": "markdown",
   "id": "b1bbf879-95fa-4062-a249-a9f889a07c7f",
   "metadata": {},
   "source": [
    "### 30.take a string from the user and check contains only  capital letters or not?\n"
   ]
  },
  {
   "cell_type": "code",
   "execution_count": null,
   "id": "0befe997-e19e-47a2-9ecf-e8a901f0033f",
   "metadata": {},
   "outputs": [],
   "source": [
    "capital =input(\"Enter A String: \")\n",
    "for i in capital:\n",
    "    if not ('A' <=i <='Z' ):\n",
    "        print(f\" It is not capital letter:{capital} \")\n",
    "        break\n",
    "else:\n",
    "    print(f\" It is a Capital Letter:{capital}\")"
   ]
  },
  {
   "cell_type": "markdown",
   "id": "ccd48506-d396-416d-9aab-1e8f11c1f696",
   "metadata": {},
   "source": [
    "### 30.take a string from the user and check contains only  small letters or not?\n"
   ]
  },
  {
   "cell_type": "code",
   "execution_count": null,
   "id": "e0d00750-5ee9-490d-9255-bc609223ce05",
   "metadata": {},
   "outputs": [],
   "source": [
    "small =input(\"Enter A String: \")\n",
    "for i in small:\n",
    "    if not ('a' <=i <='z' ):\n",
    "        print(f\" It is not small letter:{small} \")\n",
    "        break\n",
    "else:\n",
    "    print(f\" It is a small Letter:{small}\")"
   ]
  },
  {
   "cell_type": "code",
   "execution_count": null,
   "id": "ebe44766-ee71-4c2b-b674-a8251df5e8a4",
   "metadata": {},
   "outputs": [],
   "source": [
    " ### 31. WAP to replace last n occurrence of give string.\n",
    "For example:”apple,orange,apple,grape,orange,apple,apple,orange”\n",
    "source: “apple”\n",
    "last occurrences: 2\n",
    "replace with: APPLE\n",
    "output:”apple,orange,apple,grape,orange,APPLE,APPLE,orange”\n"
   ]
  },
  {
   "cell_type": "code",
   "execution_count": null,
   "id": "ffd26e3c-672d-453d-9b4b-bdad2dfb4bf5",
   "metadata": {},
   "outputs": [],
   "source": [
    "list1 = \"apple,orange,apple,grape,orange,apple,apple,orange\"\n",
    "source = \"apple\"\n",
    "n = 2\n",
    "count = 0\n",
    "list1 = list1.split(\",\")[::-1]\n",
    "\n",
    "for i in range(len(list1)):\n",
    "    if list1[i] == source:\n",
    "        count = count + 1 # count += 1\n",
    "        list1[i] = \"APPLE\"\n",
    "        if count == 2:\n",
    "            break\n",
    "\n",
    "print(\",\".join(list1[::-1]))"
   ]
  },
  {
   "cell_type": "markdown",
   "id": "aa44c43f-5557-4f59-90c5-adb01c7c0d50",
   "metadata": {},
   "source": [
    "### 32. WAP to check given string contains numbers or not. it should consider float numbers also.\n"
   ]
  },
  {
   "cell_type": "code",
   "execution_count": null,
   "id": "237e07c8-45de-4f9b-a7bf-acb7d757253f",
   "metadata": {},
   "outputs": [],
   "source": [
    "user_input = input(\"Enter a string it contains numbers and float values : \" )\n",
    "for i in user_input:\n",
    "    if (i >= \"0\" and i <= \"9\"):\n",
    "        print(\"contains numbers \")\n",
    "        break\n",
    "else:\n",
    "    print(\"not contains numbers \")"
   ]
  },
  {
   "cell_type": "markdown",
   "id": "0d56581d-9710-4247-8922-45f630a7d84d",
   "metadata": {},
   "source": [
    "### 33. Convert the total string in to lower case. Without using lower() function.\n"
   ]
  },
  {
   "cell_type": "code",
   "execution_count": null,
   "id": "e602f3b5-9c3d-470a-a91c-038f011c35d9",
   "metadata": {},
   "outputs": [],
   "source": [
    "lower_case = input(\"Enter a String:\")\n",
    "lower=\"\"\n",
    "for char in lower_case:\n",
    "    if 'A' <= char <= 'Z':\n",
    "        lower =lower+chr(ord(char)+32)               \n",
    "else:\n",
    "    lower += char\n",
    "    \n",
    "print(\"The Given String converting into  Lower Case\",lower)                        "
   ]
  },
  {
   "cell_type": "markdown",
   "id": "ab0537e2-c5ad-470c-90e8-fe2154831ce1",
   "metadata": {},
   "source": [
    "### 34. Convert the total string in to upper case. Without using upper() function.\n"
   ]
  },
  {
   "cell_type": "code",
   "execution_count": null,
   "id": "822011b5-377a-41a9-ac34-6592f03206db",
   "metadata": {},
   "outputs": [],
   "source": [
    "upper_case =input(\"Enter a String:\")\n",
    "upper=\"\"\n",
    "for char in upper_case:\n",
    "    if 'a' <= char <='z':\n",
    "        upper = upper+chr(ord(char)-32)\n",
    "else:\n",
    "    upper+=char\n",
    "print(\"The Given String converting into  upper Case\",upper)      "
   ]
  },
  {
   "cell_type": "markdown",
   "id": "1d286917-f257-4e79-96a6-8070cad1c8c0",
   "metadata": {},
   "source": [
    "### 35. Show the below menu to the user until and until user select quit and display corresponding os message\n",
    "\n",
    "'''\n",
    "Menu:\n",
    "1. windows\n",
    "2. Linux\n",
    "3. Mac\n",
    "4. quit\n",
    "'''"
   ]
  },
  {
   "cell_type": "code",
   "execution_count": null,
   "id": "18e58909-f7f0-40a6-8906-586dad068bb3",
   "metadata": {},
   "outputs": [],
   "source": [
    "condition = True\n",
    "while condition:\n",
    "    a = \"Menu: \\n1. windows \\n2. Linux \\n3. Mac \\n4. quit\"\n",
    "    print(a)\n",
    "    user_input = input(\"Select a number from above options : \")\n",
    "    if \"1\" == user_input:\n",
    "        print(\"  ***  You selected Windows  ***  \")\n",
    "        condition = True\n",
    "    elif \"2\" == user_input:\n",
    "        print(\" ***  You selected Linux  ***  \")\n",
    "        condition = True\n",
    "    elif \"3\" == user_input:\n",
    "        print(\"  *** You selected Mac  ***  \")\n",
    "        condition = True\n",
    "    elif \"4\" == user_input:\n",
    "        print(\"  *** Thank You!  ***  \")\n",
    "        condition = False\n",
    "    else:\n",
    "        print(\"===>  Select from given options please  <===\")\n",
    "        condition = True\n",
    "        "
   ]
  },
  {
   "cell_type": "markdown",
   "id": "3aca6aa4-ed1c-40fa-88d4-ee1566f724a1",
   "metadata": {},
   "source": [
    "### 36. take a string from the user and check contains at least one digit or not?\n"
   ]
  },
  {
   "cell_type": "code",
   "execution_count": null,
   "id": "1fdb82fe-cac1-4ada-86e1-8b320a635c7c",
   "metadata": {},
   "outputs": [],
   "source": [
    "user_input = input(\"Enter a string it contains numbers : \" )\n",
    "for i in user_input:\n",
    "    if (i >= \"0\" and i <= \"9\"):\n",
    "        print(\"contains numbers \")\n",
    "        break\n",
    "else:\n",
    "    print(\"not contains numbers \")"
   ]
  },
  {
   "cell_type": "markdown",
   "id": "1bf990b1-bc74-4b81-a364-897013d37f19",
   "metadata": {},
   "source": [
    "### 37. take a string from the user and check contains at least one alphabets or not?\n"
   ]
  },
  {
   "cell_type": "code",
   "execution_count": null,
   "id": "ef239b41-f471-4f10-8522-406d48906245",
   "metadata": {},
   "outputs": [],
   "source": [
    "user_input = input(\"Enter a string it contains alphabets : \" )\n",
    "for i in user_input:\n",
    "    if (i >= \"A\" and i <= \"Z\") or (i >= \"a\" and i <= \"z\"):\n",
    "        print(\"Contains Alphabets \")\n",
    "        break\n",
    "else:\n",
    "    print(\"Not contains Alphabets \")\n",
    " "
   ]
  },
  {
   "cell_type": "markdown",
   "id": "178fb29e-3a1e-4f19-9db0-802f292c1cc4",
   "metadata": {},
   "source": [
    "### 38. take a string from the user and check contains at least one chars or not?\n"
   ]
  },
  {
   "cell_type": "code",
   "execution_count": null,
   "id": "39f0a64b-6c06-4c7f-95ca-83ff924903e0",
   "metadata": {},
   "outputs": [],
   "source": [
    "user_input = input(\"Enter a string it contains Chars : \" )\n",
    "for i in user_input:\n",
    "    if not ((i >= \"A\" and i <= \"Z\") or (i >= \"a\" and i <= \"z\") or (i >= \"0\" and i <= \"9\")):\n",
    "        print(\"Contains Chars\")\n",
    "        break\n",
    "else:\n",
    "    print(\"Not contains chars \")"
   ]
  },
  {
   "cell_type": "markdown",
   "id": "299fefdd-9273-488f-a100-2e8086fbf2ef",
   "metadata": {},
   "source": [
    "### 39. take a string from the user and check contains at least one capital letter or not?\n"
   ]
  },
  {
   "cell_type": "code",
   "execution_count": null,
   "id": "57452ef4-b88d-49e9-b9c9-6599946605f6",
   "metadata": {},
   "outputs": [],
   "source": [
    "user_input = input(\"Enter a string it contains alphabets : \" )\n",
    "for i in user_input:\n",
    "    if (i >= \"A\" and i <= \"Z\"):\n",
    "        print(\"Contains capital letters \")\n",
    "        break\n",
    "else:\n",
    "    print(\"Not contains capital letters \")"
   ]
  },
  {
   "cell_type": "markdown",
   "id": "51865f3d-d490-42d9-b95c-2c0513ee9901",
   "metadata": {},
   "source": [
    "### 40. take a string from the user and check contains at least one small letter or not?\n"
   ]
  },
  {
   "cell_type": "code",
   "execution_count": null,
   "id": "359c806d-9228-4721-af7b-1ce261c9318f",
   "metadata": {},
   "outputs": [],
   "source": [
    "user_input = input(\"Enter a string it contains alphabets : \" )\n",
    "for i in user_input:\n",
    "    if (i >= \"a\" and i <= \"z\"):\n",
    "        print(\"Contains small letters \")\n",
    "        break\n",
    "else:\n",
    "    print(\"Not contains small letters \")"
   ]
  },
  {
   "cell_type": "markdown",
   "id": "7f12e544-a4f9-4079-87a9-e9403f320896",
   "metadata": {},
   "source": [
    "### 41. Print the first 100 odd numbers\n"
   ]
  },
  {
   "cell_type": "code",
   "execution_count": null,
   "id": "ee7c63cf-f764-4b34-8d80-81f9d1e81027",
   "metadata": {},
   "outputs": [],
   "source": [
    "#num =int(input(\"Enter Any number\")\n",
    "for i in range(1,99):\n",
    "   if i % 2 != 0:\n",
    "       print(i,end=\",\")\n"
   ]
  },
  {
   "cell_type": "code",
   "execution_count": null,
   "id": "b623a87d-3780-4682-8289-0eb65974e5bb",
   "metadata": {},
   "outputs": [],
   "source": [
    "### 42.Determine the factors of a number entered  by the user\n"
   ]
  },
  {
   "cell_type": "code",
   "execution_count": null,
   "id": "efabc1c2-7285-40cb-a162-8f677701e089",
   "metadata": {},
   "outputs": [],
   "source": [
    "user_input = input(\"enter a number : \")\n",
    "user_input = int(user_input)\n",
    "for i in range(1, user_input+1):\n",
    "    if user_input % i == 0:\n",
    "        print(i, end= \" \")"
   ]
  },
  {
   "cell_type": "code",
   "execution_count": null,
   "id": "19f81396-3d66-4f26-a693-e7f2c0f9e636",
   "metadata": {},
   "outputs": [],
   "source": [
    "# 43. Play a number guessing game (User enters a guess, you print YES or Higher or Lower).\n",
    "# This should continue until and until user gives a correct number or want to quit in the middle.\n",
    "# Get a hidden number by using random.randint(1,100)\n",
    "from random import randint\n",
    "number = random.randint(1, 100)\n",
    "# print(number)\n",
    "condition = True\n",
    "while condition:\n",
    "    user_input = input(\"enter a number for guess : \")\n",
    "    user_input = int(user_input)\n",
    "    if number == user_input:\n",
    "        print(\"YES\")\n",
    "        condition = False\n",
    "    elif number > user_input:\n",
    "        print(\"Lower\")\n",
    "        condition = True\n",
    "    else:\n",
    "        print(\"Higher\")\n",
    "        condition = True"
   ]
  },
  {
   "cell_type": "code",
   "execution_count": null,
   "id": "d77e377b-7971-4d10-bb96-7875bb7f66c7",
   "metadata": {},
   "outputs": [],
   "source": [
    "# 44. Take two numbers from the user a,b check whether a is divisible by b or not?\n",
    "a=int(input(\"Enter a\"))\n",
    "b=int(input(\"Enter b\"))\n",
    "if (a%b==0):\n",
    "    print(\"a is divisible by b\")\n",
    "else:\n",
    "    print(\"a is not divisible by b\")"
   ]
  },
  {
   "cell_type": "code",
   "execution_count": null,
   "id": "f7039aa4-0b46-4af2-91f3-bd7954f4d151",
   "metadata": {},
   "outputs": [],
   "source": [
    "# 45. Find the sum of all the multiples of 3 or 5 below 1000"
   ]
  },
  {
   "cell_type": "code",
   "execution_count": null,
   "id": "7ba205aa-6869-4d37-9aee-0e8b8f08abcd",
   "metadata": {},
   "outputs": [],
   "source": [
    "total_sum = 0\n",
    "for i in range(1, 1000):\n",
    "    if i % 3 == 0 or i % 5 == 0:\n",
    "        total_sum =total_sum+ i \n",
    "print(\"The sum of all multiples of 3 or 5 below 1000 is:\", total_sum)\n"
   ]
  },
  {
   "cell_type": "code",
   "execution_count": null,
   "id": "d26c497f-1927-4c6a-8856-815bf4f56073",
   "metadata": {},
   "outputs": [],
   "source": [
    "46. Write a program to find out big of two numbers"
   ]
  },
  {
   "cell_type": "code",
   "execution_count": null,
   "id": "0c703989-3aef-40b8-9d74-050bffb19441",
   "metadata": {},
   "outputs": [],
   "source": [
    "num1=float(input(\"Enter a number1\"))\n",
    "num2=float(input(\"Enter a number2\"))\n",
    "if num1>num2:\n",
    "           print(\"num1 is bigger than num2\",num1)\n",
    "elif(num2>num1):\n",
    "           print(\"num2 is bigger than num1\",num2)\n",
    "else:\n",
    "    print(\"Both Are Equal\",num1,num2)\n"
   ]
  },
  {
   "cell_type": "code",
   "execution_count": null,
   "id": "e0fb252b-3638-478e-8349-5dc24b00644d",
   "metadata": {},
   "outputs": [],
   "source": [
    "47. Write a program to find out biggest number in the given numbers."
   ]
  },
  {
   "cell_type": "code",
   "execution_count": null,
   "id": "e5a0c614-a698-44c6-912d-352b7693f6fd",
   "metadata": {},
   "outputs": [],
   "source": [
    "numbers = [23, 56, 78, 12, 45, 89, 34, 90, 67] \n",
    "biggest = numbers[0]  # Assume the first number is the biggest\n",
    "\n",
    "for number in numbers:\n",
    "    if number > biggest:\n",
    "        biggest = number\n",
    "print(\"The biggest number is:\", biggest)"
   ]
  },
  {
   "cell_type": "code",
   "execution_count": null,
   "id": "061e3c6a-a03d-47dd-beda-c104150b93f0",
   "metadata": {},
   "outputs": [],
   "source": [
    "48. find out the index of  third occurrence of given substring\n"
   ]
  },
  {
   "cell_type": "code",
   "execution_count": null,
   "id": "5d953558-3b0a-4b06-90c8-bbbcfadb8a23",
   "metadata": {},
   "outputs": [],
   "source": [
    "text = \"this is a test, this is only a test, and this is another test\"  # Input string\n",
    "substring = \"test\"  # The substring to find\n",
    "occurrence = 3  # We want to find the third occurrence\n",
    "\n",
    "index = -1  # Initialize index\n",
    "count = 0   # Count how many times the substring has occurred\n",
    "\n",
    "# Iterate through the string to find the occurrences\n",
    "for i in range(len(text)):\n",
    "    if text[i:i+len(substring)] == substring:\n",
    "        count += 1\n",
    "        if count == occurrence:\n",
    "            index = i\n",
    "            break\n",
    "\n",
    "if index != -1:\n",
    "    print(f\"The index of the {occurrence}rd occurrence of '{substring}' is: {index}\")\n",
    "else:\n",
    "    print(f\"'{substring}' does not occur {occurrence} times in the string.\")\n"
   ]
  },
  {
   "cell_type": "code",
   "execution_count": null,
   "id": "d28cdfa2-2914-48f2-a4b3-bbc3624c162a",
   "metadata": {},
   "outputs": [],
   "source": [
    "49. find out the index nth occurrence of given substring"
   ]
  },
  {
   "cell_type": "code",
   "execution_count": null,
   "id": "38388acf-724b-41c8-b60e-000bb47994ae",
   "metadata": {},
   "outputs": [],
   "source": [
    "text = \"this is a test, this is only a test, and this is another test\"  # Input string\n",
    "substring = \"test\"  # The substring to find\n",
    "n = 3  # Example: Find the 3rd occurrence\n",
    "\n",
    "index = -1  # Initialize index\n",
    "count = 0   # Count how many times the substring has occurred\n",
    "\n",
    "# Iterate through the string to find the occurrences\n",
    "for i in range(len(text)):\n",
    "    if text[i:i+len(substring)] == substring:\n",
    "        count += 1\n",
    "        if count == n:\n",
    "            index = i\n",
    "            break\n",
    "\n",
    "if index != -1:\n",
    "    print(f\"The index of the {n}th occurrence of '{substring}' is: {index}\")\n",
    "else:\n",
    "    print(f\"'{substring}' does not occur {n} times in the string.\")\n"
   ]
  },
  {
   "cell_type": "code",
   "execution_count": null,
   "id": "53b00367-43f3-4696-a59c-7d22307111d7",
   "metadata": {},
   "outputs": [],
   "source": [
    "50. Take some single digit numbers from the user and findout min, maximum, sum, average\n"
   ]
  },
  {
   "cell_type": "code",
   "execution_count": null,
   "id": "39d9f86e-adc1-42ee-8966-d73a36e90c36",
   "metadata": {},
   "outputs": [],
   "source": [
    "# Taking input from the user as a string of digits separated by spaces\n",
    "numbers = input(\"Enter single-digit numbers separated by spaces: \").split()\n",
    "\n",
    "# Convert input string numbers to integers\n",
    "numbers = [int(num) for num in numbers]\n",
    "\n",
    "# Finding the minimum, maximum, sum, and average\n",
    "min_num = min(numbers)\n",
    "max_num = max(numbers)\n",
    "total_sum = sum(numbers)\n",
    "average = total_sum / len(numbers)\n",
    "\n",
    "print(\"Minimum number:\", min_num)\n",
    "print(\"Maximum number:\", max_num)\n",
    "print(\"Sum of numbers:\", total_sum)\n",
    "print(\"Average of numbers:\", average)\n"
   ]
  },
  {
   "cell_type": "code",
   "execution_count": null,
   "id": "2fed124e-f61d-4fbf-a7e6-2e90280c3491",
   "metadata": {},
   "outputs": [],
   "source": [
    "#51. print the number in proper mathematical way.\n",
    "\tConsider that we have 6 digit numbers.\n",
    "Number format  WAP> 10 -> 000010\n",
    "       \t\t100 ->  000100\n",
    "      \t\t1000 ->  001000\n",
    " \t\t 2345678  ->  2345678\n",
    "\tIf the number has more than 6 digits then print as it is."
   ]
  },
  {
   "cell_type": "code",
   "execution_count": null,
   "id": "cad0061e-e688-48d2-b6da-6eaa1f433224",
   "metadata": {},
   "outputs": [],
   "source": [
    "number = int(input(\"Enter a number: \"))\n",
    "if number < 1000000:\n",
    "    formatted_number = f\"{number:06d}\" \n",
    "else:\n",
    "    formatted_number = str(number)\n",
    "print(\"Formatted number:\", formatted_number)\n"
   ]
  },
  {
   "cell_type": "code",
   "execution_count": null,
   "id": "d47a6d84-0ed2-4494-b3e2-0beca08a1a01",
   "metadata": {},
   "outputs": [],
   "source": [
    "#52. names  =\"emp1,emp2,emp3,emp4\" iterate through the employee names."
   ]
  },
  {
   "cell_type": "code",
   "execution_count": null,
   "id": "3531658c-b169-4520-b8cb-ddcf99577b4e",
   "metadata": {},
   "outputs": [],
   "source": [
    "names =\"emp1,emp2,emp3,emp4\"\n",
    "for i in names.split(\",\"):\n",
    "    print(i, input(\"enter emp name \" ))"
   ]
  },
  {
   "cell_type": "code",
   "execution_count": null,
   "id": "f805cee7-0cb0-431e-8bed-4772028d9254",
   "metadata": {},
   "outputs": [],
   "source": [
    "#53. Take actual string, source string, destination string. \n",
    "replce first nth occurrences of source string with destination string of actual string."
   ]
  },
  {
   "cell_type": "code",
   "execution_count": null,
   "id": "1af1517f-6157-4505-9344-546ac24ef0ee",
   "metadata": {},
   "outputs": [],
   "source": [
    "user_input = input(\"Enter a sentence \")\n",
    "list_a = user_input.split()\n",
    "print(list_a)\n",
    "source = input(\"enter a sub string\")\n",
    "n = input(\"enter a occurances of numbers \")\n",
    "n = int(n)\n",
    "destination = input(\"enter a string to change\")\n",
    "count = 0\n",
    "for i in range(0, len(list_a)):\n",
    "    print(list_a[i])\n",
    "    if list_a[i] == source :\n",
    "        list_a[i] = destination\n",
    "        count += 1\n",
    "        if count == n:\n",
    "            break\n",
    "print(\" \".join(list_a))"
   ]
  },
  {
   "cell_type": "code",
   "execution_count": null,
   "id": "b513dd14-8910-4493-8855-74c7b1c0fad6",
   "metadata": {},
   "outputs": [],
   "source": [
    "54. Take a two numbers from the user and do below menu driven operations\n",
    "1. addition\n",
    "2. multiples\n",
    "3.division\n",
    "4.sqrt\n",
    "5. pow    a**b\n",
    "6.subtraction\n",
    "After selection do the corresponding operation.\n",
    "Note: user may give int, or float numbers. You should check whether it is proper digits or not. I.e the user given string should be in the position to convert to float. Other wise show the “inproper string given” Error.\n"
   ]
  },
  {
   "cell_type": "code",
   "execution_count": null,
   "id": "474fd793-3092-4785-8f9a-265b8dd8e8c6",
   "metadata": {},
   "outputs": [],
   "source": [
    "user_input = input(\"enter a number :\")\n",
    "user_input = float(user_input)\n",
    "user_input_1 = input(\"enter a number :\")\n",
    "user_input_1 = float(user_input_1)\n",
    "\n",
    "print(\"1. addition \\n2. multiples \\n3.division \\n4.sqrt \\n5. pow a**b \\n6.subtraction\")\n",
    "select = input(\"select from above options : \")\n",
    "if select == \"1\":\n",
    "    print(\"addition of :\", user_input + user_input_1)\n",
    "elif select == \"2\":\n",
    "    print(\"multiples  of :\", user_input * user_input_1)\n",
    "elif select == \"3\":\n",
    "    print(\"division   of :\", user_input / user_input_1)\n",
    "elif select == \"4\":\n",
    "    print(\"sqrt of :\", user_input **2,  user_input_1**2 )\n",
    "elif select == \"5\":\n",
    "    print(\"pow a**b  of :\", user_input ** user_input_1 )\n",
    "elif select == \"6\":\n",
    "    print(\"subtraction  of :\", user_input - user_input_1)\n",
    "else:\n",
    "    print(\"selected inproper option\")"
   ]
  },
  {
   "cell_type": "code",
   "execution_count": null,
   "id": "9532e133-16ac-4e23-81e6-e3c3e85cdaa6",
   "metadata": {},
   "outputs": [],
   "source": [
    "55. Take numbers from the user and find out min, maximum, sum, average\n"
   ]
  },
  {
   "cell_type": "code",
   "execution_count": null,
   "id": "56dbbc05-671b-4619-b399-9751bfb3ade9",
   "metadata": {},
   "outputs": [],
   "source": []
  },
  {
   "cell_type": "code",
   "execution_count": null,
   "id": "e7145777-c82b-45b9-a34e-a12f11bdbb30",
   "metadata": {},
   "outputs": [],
   "source": [
    "#56. l=[1,2,3,5,7,8,9,10,11,12,13,20,22,23,24,25,26,27,20,21,22,4] \n",
    "find out how many even numbers are there and how many odd numbers are there\n",
    "and how many positive numbers are there and how many negative numbers are there\n",
    "and how many prime numbers are there \n",
    "and how many perfect numbers are there and how many Armstrong numbers are there and how many palindrome numbers are there.\n"
   ]
  },
  {
   "cell_type": "code",
   "execution_count": null,
   "id": "c30adeb1-111e-43df-93db-7572b0149fcd",
   "metadata": {},
   "outputs": [],
   "source": [
    "ve_no = 0\n",
    "ne_no = 0\n",
    "even_no = 0\n",
    "odd_no = 0\n",
    "prime_no = 0\n",
    "perfect_no = 0\n",
    "armstrong_no = 0\n",
    "palindrome_no = 0\n",
    "\n",
    "l=[1,2,3,5,7,8,9,10,11,12,13,20,22,23,24,25,26,27,20,21,22,4]\n",
    "for i in l:\n",
    "    if i >=0:\n",
    "        ve_no += 1\n",
    "    else:\n",
    "        ne_no += 1\n",
    "    if i % 2 == 0:\n",
    "        even_no += 1\n",
    "    else:\n",
    "        odd_no += 1\n",
    "    if i <= 1:\n",
    "        prime_no += 0\n",
    "    else:\n",
    "        count = 0\n",
    "        for j in range(2, i+1):\n",
    "            if i % j == 0:\n",
    "                count += 1\n",
    "        if count == 1:\n",
    "            prime_no += 1\n",
    "    if i <= 1:\n",
    "        perfect_no += 0\n",
    "    else:\n",
    "        sum = 1\n",
    "        for j in range(2, i+1):\n",
    "            if i % j == 0:\n",
    "                sum += j\n",
    "                if i // j != j:\n",
    "                    sum += i // j\n",
    "        if sum == i:\n",
    "            perfect_no += 1\n",
    "    num_str = str(i)\n",
    "    num_digits = len(num_str)\n",
    "    sum_of_powers = 0\n",
    "    \n",
    "    for j in num_str:\n",
    "        sum_of_powers += (int(j) ** num_digits)\n",
    "\n",
    "    if sum_of_powers == i:\n",
    "        armstrong_no += 1\n",
    "    if str(i) == str(i)[::-1]:\n",
    "        palindrome_no += 1\n",
    "\n",
    "print(\"Even numbers:\", even_no)\n",
    "print(\"Odd numbers:\", odd_no)\n",
    "print(\"Positive numbers:\", ve_no)\n",
    "print(\"Negative numbers:\", ne_no)\n",
    "print(\"Prime numbers:\", prime_no)\n",
    "print(\"Perfect numbers:\", perfect_no)\n",
    "print(\"Armstrong numbers:\", armstrong_no)\n",
    "print(\"Palindrome numbers:\", palindrome_no)"
   ]
  },
  {
   "cell_type": "code",
   "execution_count": null,
   "id": "1b723b16-8e67-4914-b736-1d20550411fb",
   "metadata": {},
   "outputs": [],
   "source": [
    "#57. Take a string from the user and find out how many\n",
    "#digits are there, how many special symbols are there, how many small letters are there, how many caps are there.\n"
   ]
  },
  {
   "cell_type": "code",
   "execution_count": null,
   "id": "a7fd708e-5611-4d0d-b723-e79db3ff9070",
   "metadata": {},
   "outputs": [],
   "source": [
    "user_input = input(\"Enter a string : \")\n",
    "digit_count = 0\n",
    "symbol_count = 0\n",
    "small_letter = 0\n",
    "captial_count = 0\n",
    "for i in user_input:\n",
    "    if (i >= \"a\" and i <= \"z\"):\n",
    "        small_letter += 1\n",
    "    if (i >= \"A\" and i <= \"Z\"):\n",
    "        captial_count += 1\n",
    "    if (i >= \"0\" and i <= \"9\"):\n",
    "        digit_count += 1\n",
    "    else:\n",
    "        symbol_count += 1\n",
    "print(\"Digits:\", digit_count)\n",
    "print(\"Special symbols:\", symbol_count)\n",
    "print(\"Small letters:\", small_letter)\n",
    "print(\"Capital letters:\", captial_count)"
   ]
  },
  {
   "cell_type": "code",
   "execution_count": null,
   "id": "2ddb72bf-42ae-48c3-9fb8-954189404cd0",
   "metadata": {},
   "outputs": [],
   "source": [
    "58. Take a char from the user and find out how many number of occurrences are there in given string"
   ]
  },
  {
   "cell_type": "code",
   "execution_count": null,
   "id": "1c89035b-2e6b-42f6-bcbb-df1a2c8568e9",
   "metadata": {},
   "outputs": [],
   "source": [
    "user_input = input(\"Enter a string :\")\n",
    "user_input_1 = input(\"Enter a char :\")\n",
    "count = 0\n",
    "for i in user_input:\n",
    "    if i == user_input_1:\n",
    "        count += 1\n",
    "\n",
    "print(\"no of occurances are : \", count)"
   ]
  },
  {
   "cell_type": "code",
   "execution_count": null,
   "id": "d9f9d534-91dd-4140-826c-8a72745985b6",
   "metadata": {},
   "outputs": [],
   "source": [
    "59. Take a element from the user and find out how many times the  element occurred in given list"
   ]
  },
  {
   "cell_type": "code",
   "execution_count": null,
   "id": "634f6b0f-fd1e-4768-b4dc-0f84c893ae13",
   "metadata": {},
   "outputs": [],
   "source": [
    "list_a = [1,2,3,4,5,2,5,2,6,1,2,5,2,1,5,4,3,8,9,2]\n",
    "user_input = input(\"Enter a number :\")\n",
    "user_input = int(user_input)\n",
    "count = 0\n",
    "for i in list_a:\n",
    "    if i == user_input:\n",
    "        count += 1\n",
    "print(\"no of  occurances are \", count)"
   ]
  },
  {
   "cell_type": "code",
   "execution_count": null,
   "id": "7f0c86de-c59f-4872-a56e-0f62dfffed9d",
   "metadata": {},
   "outputs": [],
   "source": [
    "60. Take an element from the user and find out how many number of occurrences are there in given tuple"
   ]
  },
  {
   "cell_type": "code",
   "execution_count": null,
   "id": "fb6b7f7e-9f5f-4aef-8715-6af3a484b73c",
   "metadata": {},
   "outputs": [],
   "source": [
    "list_a = (1,2,3,4,5,2,5,2,6,1,2,5,2,1,5,4,3,8,9,2)\n",
    "user_input = input(\"Enter a number :\")\n",
    "user_input = int(user_input)\n",
    "count = 0\n",
    "for i in list_a:\n",
    "    if i == user_input:\n",
    "        count += 1\n",
    "print(\"no of  occurances are \", count)"
   ]
  },
  {
   "cell_type": "code",
   "execution_count": null,
   "id": "f036d2e6-c1e7-4d5e-b7fc-0f51fc8bddfe",
   "metadata": {},
   "outputs": [],
   "source": [
    "#61. Reverse the string without effecting the special symbols. It involves three variations. Write code for three variations."
   ]
  },
  {
   "cell_type": "code",
   "execution_count": null,
   "id": "88aa3557-7fd3-4f46-9e07-a15fa90ba132",
   "metadata": {},
   "outputs": [],
   "source": [
    "s = \"abc123,#$45def6%$^789$%^\"\n",
    "print(s)\n",
    "string_reverse = s[::-1]\n",
    "\n",
    "res = \"\"\n",
    "sub = \"\"\n",
    "for i in string_reverse:\n",
    "    if i.isalnum():\n",
    "        res += sub + i\n",
    "        sub = \"\"\n",
    "    else:\n",
    "        sub = i + sub\n",
    "print(res)\n",
    "\n",
    "print(\"$%^987%$^6fed54,#$321cba\", \"required output\" )"
   ]
  },
  {
   "cell_type": "code",
   "execution_count": null,
   "id": "db44e6f7-ebc0-48c1-ba85-eefda6009ee0",
   "metadata": {},
   "outputs": [],
   "source": [
    "62.Input: abc123, #$45def6%$^789$%^, output: $%^987%$^6fed54,#$321cba        "
   ]
  },
  {
   "cell_type": "code",
   "execution_count": null,
   "id": "5f6c4448-a759-48d9-9d3a-6b526a5f2656",
   "metadata": {},
   "outputs": [],
   "source": [
    "s=\"abc123,#$45def6%$^789$%^\"\n",
    "res=\"\"\n",
    "sub=\"\"\n",
    "for i in s[::-1]:\n",
    "    if not i.isalnum():\n",
    "        sub=sub+i # ^%$\n",
    "    else:\n",
    "        if sub:\n",
    "            res=res+sub[::-1]\n",
    "            sub=''\n",
    "        res=res+i\n",
    "print(res)"
   ]
  },
  {
   "cell_type": "code",
   "execution_count": null,
   "id": "0f22ea12-e807-46c7-94fe-0367d2ea9622",
   "metadata": {},
   "outputs": [],
   "source": [
    "63.Input: abc123,#$45def6%$^789$%^, output: 9876fe,#$d54321%$^cba$%^\n"
   ]
  },
  {
   "cell_type": "code",
   "execution_count": null,
   "id": "aae0d426-81a1-4229-9109-71c6bef14e6d",
   "metadata": {},
   "outputs": [],
   "source": [
    "64.Inout: \"123,#$456%$^789$%^\", Output: 321,#$654%$^987$%^\n",
    "\t\tOnly numbers has to reverse.\n",
    "\n"
   ]
  },
  {
   "cell_type": "code",
   "execution_count": null,
   "id": "69ea2633-dfd0-4a76-8f61-e52e8a011652",
   "metadata": {},
   "outputs": [],
   "source": [
    "# 65. define a function to take person details name and age are mandatory parameters \n",
    "# and height weight are optional parameters. If the user willing to pass any other details(like adhar, cell, pan, passport etc..) \n",
    "#     regarding him then your function should access those details."
   ]
  },
  {
   "cell_type": "code",
   "execution_count": 31,
   "id": "91039245-d59a-4461-b1a3-ce0d17e39269",
   "metadata": {},
   "outputs": [
    {
     "name": "stdin",
     "output_type": "stream",
     "text": [
      "Enter the name of the person:  sss\n",
      "Enter the age of the person:  45\n",
      "Enter the height of the person:  41\n",
      "Enter the weight of the person:  45\n",
      "Enter the Aadhar number of the person:  4556\n",
      "Enter the mobile number of the person:  4566554\n"
     ]
    },
    {
     "name": "stdout",
     "output_type": "stream",
     "text": [
      "Name of the Person: sss\n",
      "Age of the Person: 45\n",
      "Height of the Person: 41\n",
      "Weight of the Person: 45\n",
      "aadhar: 4556\n",
      "mobile_no: 4566554\n"
     ]
    }
   ],
   "source": [
    "def person_details(name, age, height=None, weight=None, **kwargs):\n",
    "    print(f\"Name of the Person: {name}\")\n",
    "    print(f\"Age of the Person: {age}\")\n",
    "    if height:\n",
    "        print(f\"Height of the Person: {height}\")\n",
    "    if weight:\n",
    "        print(f\"Weight of the Person: {weight}\")\n",
    "    if kwargs:\n",
    "        for key, value in kwargs.items():\n",
    "            print(f\"{key}: {value}\")\n",
    "\n",
    "name = input(\"Enter the name of the person: \")\n",
    "age = input(\"Enter the age of the person: \")\n",
    "height = input(\"Enter the height of the person: \")\n",
    "weight = input(\"Enter the weight of the person: \")\n",
    "aadhar = input(\"Enter the Aadhar number of the person: \")\n",
    "mobile_no = input(\"Enter the mobile number of the person: \")\n",
    "\n",
    "person_details(name, age, height, weight, aadhar=aadhar, mobile_no=mobile_no)\n"
   ]
  },
  {
   "cell_type": "code",
   "execution_count": null,
   "id": "7e8b5c68-cfbf-40ba-bc34-9b99440eec07",
   "metadata": {},
   "outputs": [],
   "source": [
    "# 65 b. write a function to check given value is even or not\n",
    "\n",
    "def even_odd(a):\n",
    "    if a %2 == 0:\n",
    "        print(f\"Given value {a} is Even\")\n",
    "    else:\n",
    "        print(f\"Given value {a} is Odd\")\n",
    "\n",
    "user_input = input(\"Enter a number to chexk even or not : \" )\n",
    "user_input = float(user_input)\n",
    "even_odd(user_input)"
   ]
  },
  {
   "cell_type": "code",
   "execution_count": null,
   "id": "a6974bfc-86e9-4e56-b437-8454a274b41e",
   "metadata": {},
   "outputs": [],
   "source": [
    "# 65 c. write a function to check given value is prime or not\n",
    "\n",
    "def prime_no(check_number):\n",
    "    count = 0\n",
    "    for i in range(2, check_number+1):\n",
    "        if check_number % i == 0 :\n",
    "            count += 1\n",
    "    return count\n",
    "\n",
    "check_number = input(\"Enter a Number : \")\n",
    "check_number = int(check_number)\n",
    "\n",
    "count = prime_no(check_number)        \n",
    "if count == 1:\n",
    "    print(check_number, \"is a Prime Number\")\n",
    "else:\n",
    "    print(check_number, \"is not a Prime Number\")"
   ]
  },
  {
   "cell_type": "code",
   "execution_count": null,
   "id": "ad9fa1e6-aea4-4f58-8f2a-241bae2e55fb",
   "metadata": {},
   "outputs": [],
   "source": [
    "# 65 d. write a function to check given 2 values are  divisible or not\n",
    "\n",
    "def div(a, b):\n",
    "    print(a % b)\n",
    "    if a % b == 0:\n",
    "        print(\" a is divisible by b \")\n",
    "    else:\n",
    "        print(\" a is not divisible by b\")\n",
    "a = input(\"enter a  number :\" )\n",
    "a = int(a)\n",
    "b = input(\"enter a number : \")\n",
    "b = int(a)\n",
    "\n",
    "div(a, b)"
   ]
  },
  {
   "cell_type": "code",
   "execution_count": null,
   "id": "7a734e6f-f493-4dc4-8257-7f99ed3165df",
   "metadata": {},
   "outputs": [],
   "source": [
    "67. take a string from the user and check contains only digits or not?"
   ]
  },
  {
   "cell_type": "code",
   "execution_count": null,
   "id": "ee45a705-1c3c-4c37-ae7e-c3eb7fa4ec34",
   "metadata": {},
   "outputs": [],
   "source": [
    "def check_digits(user_input):\n",
    "    count = 0\n",
    "    for i in user_input:\n",
    "        if not(i.isdigit()):\n",
    "            print(\"contains other\")\n",
    "            break\n",
    "        else:\n",
    "            count += 1\n",
    "    return count \n",
    "user_input = input(\"Enter a word with digits : \")\n",
    "count = check_digits(user_input)\n",
    "if count == len(user_input):\n",
    "    print(\"contains only digits\")"
   ]
  },
  {
   "cell_type": "code",
   "execution_count": null,
   "id": "8237d719-d5a0-41e5-ad89-3ed8514e6ddb",
   "metadata": {},
   "outputs": [],
   "source": [
    "68. take a string from the user and check contains only  alphabets or not?"
   ]
  },
  {
   "cell_type": "code",
   "execution_count": null,
   "id": "2a5f3b7b-0d2a-4e78-a155-3e7e49a23498",
   "metadata": {},
   "outputs": [],
   "source": [
    "def check_alpha(user_input):\n",
    "    count = 0\n",
    "    for i in user_input:\n",
    "        if not(i.isalpha()) :\n",
    "            print(\"contains others\")\n",
    "            break\n",
    "        else:\n",
    "            count += 1\n",
    "    return count\n",
    "user_input = input(\"Enter a word with alphabets : \")\n",
    "count = check_alpha(user_input)\n",
    "if count == len(user_input):\n",
    "    print(\"contains only alphabets\")"
   ]
  },
  {
   "cell_type": "code",
   "execution_count": null,
   "id": "9a71b5f9-25e8-4111-a155-a3c0242edf9a",
   "metadata": {},
   "outputs": [],
   "source": [
    "69. take a string from the user and check contains only  special chars or not?"
   ]
  },
  {
   "cell_type": "code",
   "execution_count": null,
   "id": "ede4c46d-f6d7-4fe0-8a51-d45ff69c9e4f",
   "metadata": {},
   "outputs": [],
   "source": [
    "def check_spl(user_input):\n",
    "    count = 0\n",
    "    for i in user_input:\n",
    "        if i.isalnum()  :\n",
    "            print(\"contains others\")\n",
    "            break\n",
    "        else:\n",
    "            count += 1\n",
    "    return count\n",
    "    \n",
    "user_input = input(\"Enter a word with Special chars : \")\n",
    "count = check_spl(user_input)\n",
    "\n",
    "if count == len(user_input):\n",
    "    print(\"contains only Special chars  \")"
   ]
  },
  {
   "cell_type": "code",
   "execution_count": null,
   "id": "83b33580-38d1-4d8d-bfe4-704e421ae09d",
   "metadata": {},
   "outputs": [],
   "source": [
    "70. take a string from the user and check contains only  capital letters or not?"
   ]
  },
  {
   "cell_type": "code",
   "execution_count": null,
   "id": "746573e8-8ea3-40e5-9707-5e1529992ab4",
   "metadata": {},
   "outputs": [],
   "source": [
    "def check_capital(user_input):\n",
    "    count = 0\n",
    "    for i in user_input:\n",
    "        if not(i.isupper()) :\n",
    "            print(\"contains others\")\n",
    "            break\n",
    "        else:\n",
    "            count += 1\n",
    "    return count\n",
    "user_input = input(\"Enter a word with alphabets : \")\n",
    "count = check_capital(user_input)\n",
    "if count == len(user_input):\n",
    "    print(\"contains only Capital Letters\")"
   ]
  },
  {
   "cell_type": "markdown",
   "id": "1e5ba43a-d499-4bcc-a643-2a4d07c77aa6",
   "metadata": {},
   "source": [
    "### 71.take a string from the user and check contains only  small letters or not?"
   ]
  },
  {
   "cell_type": "code",
   "execution_count": 16,
   "id": "dd635581-d5be-4c14-b65e-04fed6bc3bbb",
   "metadata": {},
   "outputs": [
    {
     "name": "stdin",
     "output_type": "stream",
     "text": [
      "Enter a string: asdfghR\n"
     ]
    },
    {
     "name": "stdout",
     "output_type": "stream",
     "text": [
      "The string contains not  only small letters.\n"
     ]
    }
   ],
   "source": [
    "user_input = input(\"Enter a string:\")\n",
    "if user_input.islower():\n",
    "    print(\"the String contains small letters case letter\")\n",
    "else:\n",
    "   print(\"The string contains not  only small letters.\")"
   ]
  },
  {
   "cell_type": "code",
   "execution_count": null,
   "id": "107ed415-dc94-4137-ae74-301ac9d9e8f4",
   "metadata": {},
   "outputs": [],
   "source": [
    " #72. WAP to replace last n occurrence."
   ]
  },
  {
   "cell_type": "code",
   "execution_count": 115,
   "id": "ab0df254-a082-4135-9e95-0d3b41c7cca6",
   "metadata": {},
   "outputs": [
    {
     "name": "stdout",
     "output_type": "stream",
     "text": [
      "apple,orange,apple,grape,orange,apple,apple,orange\n",
      "apple,orange,apple,grape,orange,APPLE,APPLE,orange\n"
     ]
    }
   ],
   "source": [
    "def replace_str(list_a, source):\n",
    "    n = 2\n",
    "    count = 0\n",
    "    for i in range(0, len(list_a)):\n",
    "        if list_a[i] == source :\n",
    "            list_a[i] = \"APPLE\"\n",
    "            count += 1\n",
    "            if count == n:\n",
    "                break\n",
    "    return list_a\n",
    "a = \"apple,orange,apple,grape,orange,apple,apple,orange\"\n",
    "print(a)\n",
    "list_a = a.split(',')\n",
    "list_a = list_a[::-1]\n",
    "source = \"apple\"\n",
    "list_a = replace_str(list_a, source)\n",
    "print(\",\".join(list_a[::-1]))"
   ]
  },
  {
   "cell_type": "code",
   "execution_count": null,
   "id": "8fb106ad-07d0-4bf1-954b-07044ff2ff82",
   "metadata": {},
   "outputs": [],
   "source": [
    "73. WAP to check given string contains numbers or not. it should consider float numbers also."
   ]
  },
  {
   "cell_type": "code",
   "execution_count": null,
   "id": "63e2eadb-b362-420c-bfba-8c953438ee71",
   "metadata": {},
   "outputs": [],
   "source": [
    "def check_numbers(user_input):\n",
    "    for i in user_input:\n",
    "        if (i.isdecimal()):\n",
    "            print(\"contains numbers \")\n",
    "            break\n",
    "    else:\n",
    "        print(\"not contains numbers \")\n",
    "\n",
    "user_input = input(\"Enter a string it contains numbers and float values : \" )\n",
    "check_numbers(user_input)"
   ]
  },
  {
   "cell_type": "code",
   "execution_count": null,
   "id": "ec065501-07e5-4288-b2a9-14678be30640",
   "metadata": {},
   "outputs": [],
   "source": [
    "74. Convert the total string in to lower case.\n",
    "Convert the total string in to upper case.\n"
   ]
  },
  {
   "cell_type": "code",
   "execution_count": 117,
   "id": "dc95e0e4-0e01-4a6c-bedb-516aecb82743",
   "metadata": {},
   "outputs": [
    {
     "name": "stdin",
     "output_type": "stream",
     "text": [
      "Enter a word with alphabets :  qeeqe\n"
     ]
    },
    {
     "name": "stdout",
     "output_type": "stream",
     "text": [
      "QEEQE\n",
      "qeeqe\n"
     ]
    }
   ],
   "source": [
    "def str_upper(user_input):\n",
    "    user_input = user_input.upper()\n",
    "    return user_input\n",
    "\n",
    "def str_lower(user_input):\n",
    "    user_input = user_input.lower()\n",
    "    return user_input\n",
    "    \n",
    "user_input = input(\"Enter a word with alphabets : \")\n",
    "user_input1 = str_upper(user_input)\n",
    "print(\"\".join(user_input1))\n",
    "user_input1 = str_lower(user_input)\n",
    "print(\"\".join(user_input1))"
   ]
  },
  {
   "cell_type": "code",
   "execution_count": 119,
   "id": "52b4fbe7-7235-444b-b770-bc46fe0f3741",
   "metadata": {},
   "outputs": [
    {
     "name": "stdin",
     "output_type": "stream",
     "text": [
      "Enter a string :  hello Python \n"
     ]
    },
    {
     "name": "stdout",
     "output_type": "stream",
     "text": [
      "Hello Python\n"
     ]
    }
   ],
   "source": [
    "#75. Convert every word start letter into caps. Some how title not working if it contains numbers and special symbols in the word\n",
    "\n",
    "def capitalize_words(text):\n",
    "  words = text.split()\n",
    "  capitalized_words = []\n",
    "  for word in words:\n",
    "    if word:\n",
    "      capitalized_words.append(word.capitalize())\n",
    "    else:\n",
    "      capitalized_words.append(word)\n",
    "  return \" \".join(capitalized_words)\n",
    "\n",
    "text = input(\"Enter a string : \")     # \"hello world 123! special_symbol\"\n",
    "capitalized_text = capitalize_words(text)\n",
    "print(capitalized_text)"
   ]
  },
  {
   "cell_type": "code",
   "execution_count": null,
   "id": "2773d0d4-dfa4-4257-a363-3b14d31c58cd",
   "metadata": {},
   "outputs": [],
   "source": [
    "76.replace last two occurrences of given source string with destination string\n",
    " preserve the delimiter after split."
   ]
  },
  {
   "cell_type": "code",
   "execution_count": 121,
   "id": "998c300c-c3eb-4b69-808a-d2d95505a61a",
   "metadata": {},
   "outputs": [
    {
     "name": "stdin",
     "output_type": "stream",
     "text": [
      "Enter a string :  naresh\n",
      "Enter a word :  su\n",
      "Enter a word :  s\n"
     ]
    },
    {
     "name": "stdout",
     "output_type": "stream",
     "text": [
      "naresh\n"
     ]
    }
   ],
   "source": [
    "def replace_last_two_occurrences(text, source, destination, delimiter=' '):\n",
    "  words = text.split(delimiter)\n",
    "  count = 0\n",
    "  new_words = []\n",
    "  for i in range(len(words) - 1, -1, -1):\n",
    "    if words[i] == source and count < 2:\n",
    "      new_words.insert(0, destination)\n",
    "      count += 1\n",
    "    else:\n",
    "      new_words.insert(0, words[i])\n",
    "  return delimiter.join(new_words)\n",
    "\n",
    "\n",
    "text = input(\"Enter a string : \") \n",
    "source = input(\"Enter a word : \") \n",
    "destination = input(\"Enter a word : \") \n",
    "new_text = replace_last_two_occurrences(text, source, destination)\n",
    "print(new_text)"
   ]
  },
  {
   "cell_type": "code",
   "execution_count": null,
   "id": "52aa8e37-c748-419a-b296-8cc75ebc69be",
   "metadata": {},
   "outputs": [],
   "source": [
    "77. write a program to check given substring is there in actual string or not? (search should be case insensitive)\n",
    "example: act=\"python is a pure object oriented programing language\"\n"
   ]
  },
  {
   "cell_type": "code",
   "execution_count": 14,
   "id": "fa8751e9-8d0a-4ac0-8fef-af9c7823d343",
   "metadata": {},
   "outputs": [
    {
     "name": "stdin",
     "output_type": "stream",
     "text": [
      "Enter a string :  pure\n"
     ]
    },
    {
     "name": "stdout",
     "output_type": "stream",
     "text": [
      "The substring 'pure' is present in the string.\n"
     ]
    }
   ],
   "source": [
    "def contains_substring_case_insensitive(actual_string, substring):\n",
    "    if substring.casefold() in actual_string.casefold():\n",
    "        print(f\"The substring '{substring_to_check}' is present in the string.\")\n",
    "    else:\n",
    "        print(f\"The substring '{substring_to_check}' is not present in the string.\")\n",
    "\n",
    "act = \"python is a pure object oriented programing language\"\n",
    "substring_to_check = input(\"Enter a string : \")\n",
    "contains_substring_case_insensitive(act, substring_to_check)\n",
    "       "
   ]
  },
  {
   "cell_type": "code",
   "execution_count": 35,
   "id": "a383dde6-fa87-443f-9466-98de1cf52213",
   "metadata": {},
   "outputs": [
    {
     "name": "stdout",
     "output_type": "stream",
     "text": [
      "The substring 'pure' is present in the string.\n"
     ]
    }
   ],
   "source": [
    "#78.check whether “pure” is there in act or not.\n",
    "#Note: Use in operator # string end\n",
    "def contains_substring_case_insensitive(actual_string, substring):\n",
    "    if substring.casefold() in actual_string.casefold():\n",
    "        print(f\"The substring '{substring_to_check}' is present in the string.\")\n",
    "    else:\n",
    "        print(f\"The substring '{substring_to_check}' is not present in the string.\")\n",
    "\n",
    "act = \"python is a pure object oriented programing language\"\n",
    "substring_to_check = \"pure\"\n",
    "contains_substring_case_insensitive(act, substring_to_check)"
   ]
  },
  {
   "cell_type": "code",
   "execution_count": 39,
   "id": "f3c1615e-714c-415e-80ee-7b412dc8cb3b",
   "metadata": {},
   "outputs": [
    {
     "name": "stdout",
     "output_type": "stream",
     "text": [
      "[10, 20, 30, 40, 50, 60, 70, 80, 90, 20]\n"
     ]
    }
   ],
   "source": [
    "# DATA STRUCTURES\n",
    "# 79. l=[10,20,30,[40,50,60],70,[80,90,20]]. Convert this list as single dimensional list\n",
    "def dime_list(lst):\n",
    "    flat_lst = []\n",
    "    for item in lst:\n",
    "        if isinstance(item, list):\n",
    "            flat_lst.extend(dime_list(item))  # Recursive call for nested lists\n",
    "        else:\n",
    "            flat_lst.append(item)\n",
    "    return flat_lst\n",
    "\n",
    "l = [10, 20, 30, [40, 50, 60], 70, [80, 90, 20]]\n",
    "flat_l = dime_list(l)\n",
    "print(flat_l)\n",
    "\n"
   ]
  },
  {
   "cell_type": "code",
   "execution_count": null,
   "id": "48823769-41ab-4045-a121-d34565c51a4e",
   "metadata": {},
   "outputs": [],
   "source": [
    "80. input: \"Google\" print count of each character"
   ]
  },
  {
   "cell_type": "code",
   "execution_count": 41,
   "id": "c1f1d3d4-567a-430e-a84d-bf67ab6d80de",
   "metadata": {},
   "outputs": [
    {
     "name": "stdout",
     "output_type": "stream",
     "text": [
      "{'G': 1, 'o': 2, 'g': 1, 'l': 1, 'e': 1}\n"
     ]
    }
   ],
   "source": [
    "def char_count(input_string):\n",
    "  char_counts = {}\n",
    "  for char in input_string:\n",
    "    if char in char_counts:\n",
    "      char_counts[char] += 1\n",
    "    else:\n",
    "      char_counts[char] = 1\n",
    "  return char_counts\n",
    "\n",
    "input_string = \"Google\"\n",
    "char_counts = char_count(input_string)\n",
    "print(char_counts)"
   ]
  },
  {
   "cell_type": "code",
   "execution_count": null,
   "id": "62721e20-99aa-4ea8-bcff-f8498c6782e1",
   "metadata": {},
   "outputs": [],
   "source": [
    "81. Convert n dimensional list to single dimensional list.\n"
   ]
  },
  {
   "cell_type": "code",
   "execution_count": 43,
   "id": "36a12dbf-e14b-43fe-b687-77b57ec46fca",
   "metadata": {},
   "outputs": [
    {
     "name": "stdout",
     "output_type": "stream",
     "text": [
      "[1, 2, 3, 1, 2, 3, 4, 5, 6, 7]\n"
     ]
    }
   ],
   "source": [
    "def dimensional_list(lst):\n",
    "  flat_lst = []\n",
    "  for item in lst:\n",
    "    if isinstance(item, list):\n",
    "      flat_lst.extend(dimensional_list(item))\n",
    "    else:\n",
    "      flat_lst.append(item)\n",
    "  return flat_lst\n",
    "\n",
    "\n",
    "my_list = [[1, 2, [3, [1,2,3],4]], [5, 6], 7]\n",
    "flat_list = dimensional_list(my_list)\n",
    "print(flat_list)"
   ]
  },
  {
   "cell_type": "code",
   "execution_count": null,
   "id": "40bf0d12-e9cd-4bcc-b47f-76c94534efdb",
   "metadata": {},
   "outputs": [],
   "source": [
    "82. l=[1,2,3] just make it as a string.\n"
   ]
  },
  {
   "cell_type": "code",
   "execution_count": null,
   "id": "0e55636c-2c94-48a6-8afd-e6bcd951dea2",
   "metadata": {},
   "outputs": [],
   "source": [
    "83. l=[1,2,3,[4,5,6],7,[8,9,10]] for single dimensional list\n"
   ]
  },
  {
   "cell_type": "code",
   "execution_count": null,
   "id": "47aa3936-88de-4dfa-9015-a0a84489467e",
   "metadata": {},
   "outputs": [],
   "source": [
    "84. l=['a','A','b','B','d','D','c','C'] WAP to find out case insensitive count and 85. case insensitive search for an element.\n"
   ]
  },
  {
   "cell_type": "code",
   "execution_count": null,
   "id": "251b2a6a-97c8-4dba-840c-c1b098286f62",
   "metadata": {},
   "outputs": [],
   "source": [
    "86. l=['a','A','b','B','d','D','c','C']  sort the list properly\n"
   ]
  },
  {
   "cell_type": "code",
   "execution_count": null,
   "id": "f505aee3-0bc3-446a-a319-494c996826c8",
   "metadata": {},
   "outputs": [],
   "source": [
    "87. find the start position of the largest block of repeated characters in a given string\n"
   ]
  },
  {
   "cell_type": "code",
   "execution_count": null,
   "id": "060c77a3-ebc8-4229-bbe7-6d93493bd59e",
   "metadata": {},
   "outputs": [],
   "source": [
    "88. WAP to find union and intersection of lists.\n"
   ]
  },
  {
   "cell_type": "code",
   "execution_count": null,
   "id": "3588bda6-e593-4928-9917-0815b2a9de49",
   "metadata": {},
   "outputs": [],
   "source": [
    "89. input: fun(5) output: [1,2,3,4,3,2,1]\n"
   ]
  },
  {
   "cell_type": "code",
   "execution_count": null,
   "id": "c3455cc7-7478-421a-8f6c-29016248d314",
   "metadata": {},
   "outputs": [],
   "source": [
    "90. input fun('abc') output: [[],][a],[b],[c],[a,b],[b,c],[c,a],[a,b,c]]\n"
   ]
  },
  {
   "cell_type": "code",
   "execution_count": null,
   "id": "e840cbe6-e41b-4365-9eae-4d41b4d00261",
   "metadata": {},
   "outputs": [],
   "source": []
  },
  {
   "cell_type": "code",
   "execution_count": null,
   "id": "9018d176-e1b6-4bf3-9a92-6c4685ab602d",
   "metadata": {},
   "outputs": [],
   "source": []
  },
  {
   "cell_type": "code",
   "execution_count": null,
   "id": "d7a0a67f-775b-44ba-87a9-286c84957946",
   "metadata": {},
   "outputs": [],
   "source": []
  },
  {
   "cell_type": "code",
   "execution_count": null,
   "id": "ef58e062-254c-47d7-8bce-0b3376f3ec66",
   "metadata": {},
   "outputs": [],
   "source": []
  },
  {
   "cell_type": "code",
   "execution_count": null,
   "id": "1ca37d67-178a-4ae7-be28-14af46c3609d",
   "metadata": {},
   "outputs": [],
   "source": []
  },
  {
   "cell_type": "code",
   "execution_count": null,
   "id": "04fed558-41cc-4cbc-9938-30d95bc70fc1",
   "metadata": {},
   "outputs": [],
   "source": []
  },
  {
   "cell_type": "code",
   "execution_count": null,
   "id": "cf641e56-28c9-4f61-983e-9607ff2028bd",
   "metadata": {},
   "outputs": [],
   "source": []
  },
  {
   "cell_type": "code",
   "execution_count": null,
   "id": "48dcfd81-811c-43e3-bd3e-341b69efe1b2",
   "metadata": {},
   "outputs": [],
   "source": []
  },
  {
   "cell_type": "code",
   "execution_count": null,
   "id": "a8050708-4a61-4d4f-8945-71f49a9ecb93",
   "metadata": {},
   "outputs": [],
   "source": []
  },
  {
   "cell_type": "code",
   "execution_count": null,
   "id": "585cb531-f0e5-4fe6-bacc-b2b3c5a36d2d",
   "metadata": {},
   "outputs": [],
   "source": []
  },
  {
   "cell_type": "code",
   "execution_count": null,
   "id": "6dab3d62-ed11-4606-9aa1-23f6fa1aadeb",
   "metadata": {},
   "outputs": [],
   "source": []
  },
  {
   "cell_type": "code",
   "execution_count": null,
   "id": "7ee11a6e-ba02-4ac4-827b-814ec1eabac6",
   "metadata": {},
   "outputs": [],
   "source": [
    "\n"
   ]
  }
 ],
 "metadata": {
  "kernelspec": {
   "display_name": "Python 3 (ipykernel)",
   "language": "python",
   "name": "python3"
  },
  "language_info": {
   "codemirror_mode": {
    "name": "ipython",
    "version": 3
   },
   "file_extension": ".py",
   "mimetype": "text/x-python",
   "name": "python",
   "nbconvert_exporter": "python",
   "pygments_lexer": "ipython3",
   "version": "3.12.3"
  }
 },
 "nbformat": 4,
 "nbformat_minor": 5
}
